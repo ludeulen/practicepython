{
 "cells": [
  {
   "cell_type": "code",
   "execution_count": null,
   "id": "1df07ab0",
   "metadata": {},
   "outputs": [],
   "source": [
    "# 자원순환정보시스템 api=OIZF6LPJKYIUCWX2CEKO05O1RX1N46OX8VL95HHDO5ABE\n",
    "\n",
    "# 자원순환정보시스템 open api 조회\n",
    "# http://www.recycling-info.or.kr/sds/JsonApi.do?PID={API서식번호} &YEAR={조회년도}&USRID={아이디}&KEY={API인증키}\n",
    "\n",
    "\n",
    "# 자원순환정보시스템 open api 설명\n",
    "# https://www.recycling-info.or.kr/statDoc/%ED%8F%90%EA%B8%B0%EB%AC%BC%ED%86%B5%EA%B3%84_OpenAPI%ED%99%9C%EC%9A%A9%EA%B0%80%EC%9D%B4%EB%93%9C.pdf"
   ]
  },
  {
   "cell_type": "code",
   "execution_count": 1,
   "id": "574ab7b4",
   "metadata": {},
   "outputs": [],
   "source": [
    "import requests\n",
    "import pandas as pd\n",
    "import json\n",
    "\n",
    "\n",
    "\n",
    "list_df=[]\n",
    "year=['2014','2015','2016','2017','2018']\n",
    "for y in year:\n",
    "    url = \"http://www.recycling-info.or.kr/sds/JsonApi.do?PID=NTN003&YEAR=\"+y+\"&USRID=kriem546&KEY=OIZF6LPJKYIUCWX2CEKO05O1RX1N46OX8VL95HHDO5ABE\"\n",
    "    response = requests.get(url)\n",
    "    result=json.loads(response.text)\n",
    "\n",
    "    data=result['data']\n",
    "    df=pd.DataFrame(data)\n",
    "    df['처리년도']=y\n",
    "    list_df.append(df)\n",
    "    \n",
    "df_total=pd.concat(list_df)  "
   ]
  },
  {
   "cell_type": "code",
   "execution_count": 2,
   "id": "0aaa3972",
   "metadata": {},
   "outputs": [],
   "source": [
    "import requests\n",
    "import pandas as pd\n",
    "import json\n",
    "\n",
    "\n",
    "url = \"http://www.recycling-info.or.kr/sds/JsonApi.do?PID=NTN007&YEAR=2019&USRID=kriem546&KEY=OIZF6LPJKYIUCWX2CEKO05O1RX1N46OX8VL95HHDO5ABE\"\n",
    "response = requests.get(url)\n",
    "result=json.loads(response.text)\n",
    "\n",
    "data=result['data']\n",
    "df=pd.DataFrame(data)\n",
    "df['처리년도']='2019'\n",
    "\n",
    "df.replace('\\r','',inplace=True,regex=True)"
   ]
  },
  {
   "cell_type": "code",
   "execution_count": 3,
   "id": "5d5d9f16",
   "metadata": {},
   "outputs": [],
   "source": [
    "import requests\n",
    "import pandas as pd\n",
    "import json\n",
    "\n",
    "\n",
    "url = \"http://www.recycling-info.or.kr/sds/JsonApi.do?PID=NTN007&YEAR=2020&USRID=kriem546&KEY=OIZF6LPJKYIUCWX2CEKO05O1RX1N46OX8VL95HHDO5ABE\"\n",
    "response = requests.get(url)\n",
    "result=json.loads(response.text)\n",
    "\n",
    "data=result['data']\n",
    "df=pd.DataFrame(data)\n",
    "df['처리년도']='2020'\n",
    "\n",
    "\n",
    "df.replace('\\r','',inplace=True,regex=True)"
   ]
  },
  {
   "cell_type": "code",
   "execution_count": 4,
   "id": "0bb029f0",
   "metadata": {},
   "outputs": [],
   "source": [
    "code=['W01', 'W02', 'W03', 'W04','W05','W06','W07','W08','W09','W0A','W0B','W0C','W0D','W0E','W0F','W0G','W0H','W0I','W0J','W0K','W0L','W0M',\n",
    "      'W0N','W0P','W0Q','W0R','W0S','W0T','W0U','W0V','W0W','W0X','W0Y','W0Z','W10','W11','W12','W13','W14','W15','W16','W17','W18','W19',\n",
    "      'W1A','W1B','W1C','W1D','W1E','W1F','W1G','W1H','W1I','W1J','W1K','W1L','W1M','W1O','W1P','W1Q','W1R','W1S','W1T','W1U','W1V','W1W',\n",
    "      'W1X','W1Y','W1Z','W20','W21','W22','W23','W24','W25','W26','W27','W28','W29','W2A','W2B','W2D','W2G','W2H','W2I','W2L','W2P','W2Q',\n",
    "      'W2R','W2S','W2T','W2U','W2V','W2W','W2Y','W30','W31','W32','W33','W34','W35','W36','W37','W38','W3C','W3D','W3E','W3F','W3G','W3H',\n",
    "      'W3I','W3J','W3K','W3L','W3N','W3O','W3Q','W3S','W3U','W42','W44','W4C','W4H','W4N','W4O','W4Q','W4R','W4S','W4W','W4Z','W50','W51',\n",
    "      'W52','W53','W54','W55','W56','W5D','W5I','W5J','W5K','W5M','W5P','W5S','W5T','W5U','W5V','W5W','W5X','W5Z','W61','W64','W67','W68',\n",
    "      'W69','W6B','W6C','W6D','W6F','W6H','W6J','W6L','W6M','W6N','W6P','W6Q','W6S','W6V','W6W','W6X','W6Y','W6Z']"
   ]
  },
  {
   "cell_type": "code",
   "execution_count": null,
   "id": "c1e374c2",
   "metadata": {},
   "outputs": [],
   "source": [
    "import requests\n",
    "import pandas as pd\n",
    "import json\n",
    "import time\n",
    "\n",
    "# year=['2018','2019','2020','2021']\n",
    "# month=['01','02','03','04','05','06','07','08','09','10','11','12']\n",
    "\n",
    "\n",
    "# for y in year:\n",
    "#     for m in month:\n",
    "#         list_df=[]\n",
    "#         for c in code:\n",
    "#             try:\n",
    "#                 url = 'http://apis.data.go.kr/B552584/RfidFoodWasteServiceNew/getCityDateList'\n",
    "#                 param ={'serviceKey' : 'PnDDFfwlwy/ruQHr8wpEN6CJoMvzkuUqorpGhCcvA6a2yajRCSoET2yx4a77oMwDWZ4RtUi1dY55HmVMDle4ig==', \n",
    "#                         'type' : 'json', 'disYear' : y, 'disMonth' : m, 'cityCode' : c, 'page' : '1', 'rowNum' : '100000000000' }\n",
    "\n",
    "#                 response = requests.get(url, params=param)\n",
    "#                 result=json.loads(response.text)\n",
    "#             except:\n",
    "#                 time.sleep(2)\n",
    "#                 response = requests.get(url, params=param)\n",
    "#                 result=json.loads(response.text)\n",
    "\n",
    "#             if result['data']['resultMsg']=='성공':\n",
    "#                 data=result['data']\n",
    "#                 df=pd.DataFrame(result['data']['list'])\n",
    "                    \n",
    "#                 list_df.append(df)\n",
    "            \n",
    "#         df_month=pd.concat(list_df)            \n",
    "#         df_month.to_csv('Food_waste_'+y+'_'+m+'.csv',encoding='cp949')"
   ]
  },
  {
   "cell_type": "code",
   "execution_count": 5,
   "id": "62bc2800",
   "metadata": {},
   "outputs": [
    {
     "name": "stderr",
     "output_type": "stream",
     "text": [
      "C:\\Users\\YONSAI\\AppData\\Local\\Temp\\ipykernel_1956\\249230173.py:63: SettingWithCopyWarning: \n",
      "A value is trying to be set on a copy of a slice from a DataFrame\n",
      "\n",
      "See the caveats in the documentation: https://pandas.pydata.org/pandas-docs/stable/user_guide/indexing.html#returning-a-view-versus-a-copy\n",
      "  df1.replace({'대구경북':'대구광역시'},inplace=True)\n",
      "C:\\Users\\YONSAI\\AppData\\Local\\Temp\\ipykernel_1956\\249230173.py:64: SettingWithCopyWarning: \n",
      "A value is trying to be set on a copy of a slice from a DataFrame\n",
      "\n",
      "See the caveats in the documentation: https://pandas.pydata.org/pandas-docs/stable/user_guide/indexing.html#returning-a-view-versus-a-copy\n",
      "  df2.replace({'광주전남':'광주광역시'},inplace=True)\n"
     ]
    }
   ],
   "source": [
    "import requests\n",
    "import json\n",
    "\n",
    "# 서울을 뺀 나머지 지역\n",
    "url = \"https://ecos.bok.or.kr/api/StatisticSearch/KIPUD3Q933N1288BVJZ8/json/kr/1/99999/511Y004/M/201501/202209/FMCA\"\n",
    "response = requests.get(url)\n",
    "result=json.loads(response.text)\n",
    "\n",
    "df=pd.DataFrame(result['StatisticSearch']['row'])\n",
    "df.dropna(axis=1,inplace=True)\n",
    "df['ID']=df['TIME']+df['ITEM_NAME2']\n",
    "\n",
    "url = \"https://ecos.bok.or.kr/api/StatisticSearch/KIPUD3Q933N1288BVJZ8/json/kr/1/99999/511Y004/M/201501/202209/FMCB\"\n",
    "response = requests.get(url)\n",
    "\n",
    "result=json.loads(response.text)\n",
    "df1=pd.DataFrame(result['StatisticSearch']['row'])\n",
    "\n",
    "df1.dropna(axis=1,inplace=True)\n",
    "df1['ID']=df1['TIME']+df1['ITEM_NAME2']\n",
    "df1.drop(['STAT_CODE','STAT_NAME','ITEM_CODE2','ITEM_NAME2','TIME'],axis=1,inplace=True)\n",
    "df1.columns=['ITEM_CODE3','ITEM_NAME3','DATA_VALUE2','ID']\n",
    "df_csi=pd.merge(df,df1,how='left',on='ID')\n",
    "\n",
    "# 지역 서울\n",
    "url = \"https://ecos.bok.or.kr/api/StatisticSearch/KIPUD3Q933N1288BVJZ8/json/kr/1/99999/511Y002/M/201501/202209/FMCA/F0001\"\n",
    "response = requests.get(url)\n",
    "result=json.loads(response.text)\n",
    "\n",
    "df=pd.DataFrame(result['StatisticSearch']['row'])\n",
    "df.dropna(axis=1,inplace=True)\n",
    "df['ID']=df['TIME']+df['ITEM_NAME2']\n",
    "\n",
    "url = \"https://ecos.bok.or.kr/api/StatisticSearch/KIPUD3Q933N1288BVJZ8/json/kr/1/99999/511Y002/M/201501/202209/FMCB/F0001\"\n",
    "response = requests.get(url)\n",
    "response = requests.get(url)\n",
    "\n",
    "result=json.loads(response.text)\n",
    "df1=pd.DataFrame(result['StatisticSearch']['row'])\n",
    "\n",
    "df1.dropna(axis=1,inplace=True)\n",
    "df1['ID']=df1['TIME']+df1['ITEM_NAME2']\n",
    "df1.drop(['STAT_CODE','STAT_NAME','ITEM_CODE2','ITEM_NAME2','TIME'],axis=1,inplace=True)\n",
    "df1.columns=['ITEM_CODE3','ITEM_NAME3','DATA_VALUE2','ID']\n",
    "\n",
    "df_csi_seoul=pd.merge(df,df1,how='left',on='ID')\n",
    "df_csi_total=pd.concat([df_csi, df_csi_seoul])\n",
    "\n",
    "df_csi_total.drop(['STAT_CODE','STAT_NAME','ITEM_NAME1','ITEM_CODE1','ITEM_CODE2','ITEM_NAME3','ITEM_CODE3','ID'],axis=1,inplace=True)\n",
    "\n",
    "df_csi_total=df_csi_total[['TIME','ITEM_NAME2','DATA_VALUE','DATA_VALUE2']]\n",
    "df_csi_total.columns=['TIME','AREA','가계수입전망CSI','소비지출전망CSI']\n",
    "\n",
    "df1=df_csi_total[df_csi_total['AREA']=='대구경북']\n",
    "df2=df_csi_total[df_csi_total['AREA']=='광주전남']\n",
    "df3=df_csi_total[df_csi_total['AREA']=='대전충남']\n",
    "\n",
    "area={'AREA':{'부산':'부산광역시','대구경북':'경상북도','인천':'인천광역시','광주전남':'전라남도','대전충남':'충청남도',\n",
    "              '울산':'울산광역시','경기':'경기도','강원':'강원도','충북':'충청북도','전북':'전라북도','경남':'경상남도',\n",
    "              '제주':'제주특별자치도','서울':'서울특별시'}}\n",
    "\n",
    "df_csi_total.replace(area,inplace=True)\n",
    "df1.replace({'대구경북':'대구광역시'},inplace=True)\n",
    "df2.replace({'광주전남':'광주광역시'},inplace=True)\n",
    "df3.replace({'대전충남':'대전광역시'},inplace=True)\n",
    "df_csi_total=pd.concat([df_csi_total,df1,df2,df3])\n",
    "\n",
    "df_csi_total.reset_index(inplace=True)\n",
    "df_csi_total.drop('index',axis=1,inplace=True)\n",
    "df_csi_total['ID']=df_csi_total['TIME']+df_csi_total['AREA']"
   ]
  },
  {
   "cell_type": "code",
   "execution_count": 6,
   "id": "a02dbc98",
   "metadata": {},
   "outputs": [],
   "source": [
    "import os\n",
    "import pandas as pd"
   ]
  },
  {
   "cell_type": "code",
   "execution_count": 7,
   "id": "497addca",
   "metadata": {},
   "outputs": [],
   "source": [
    "path='./Food_waste'"
   ]
  },
  {
   "cell_type": "code",
   "execution_count": 8,
   "id": "c7211c44",
   "metadata": {},
   "outputs": [],
   "source": [
    "file_list=os.listdir(path)"
   ]
  },
  {
   "cell_type": "code",
   "execution_count": 9,
   "id": "8f5884ce",
   "metadata": {},
   "outputs": [],
   "source": [
    "list_df=[]\n",
    "for f in file_list:\n",
    "    df=pd.read_csv('./Food_waste/'+f,encoding='cp949')\n",
    "    list_df.append(df)\n",
    "    \n",
    "df_total=pd.concat(list_df)\n",
    "df_total=df_total.astype(str)"
   ]
  },
  {
   "cell_type": "code",
   "execution_count": 12,
   "id": "6343fa1a",
   "metadata": {},
   "outputs": [],
   "source": [
    "df_total['disMonth']=df_total['disMonth'].str.zfill(2)"
   ]
  },
  {
   "cell_type": "code",
   "execution_count": 13,
   "id": "a916d9ea",
   "metadata": {},
   "outputs": [],
   "source": [
    "df_total.drop('Unnamed: 0',axis=1,inplace=True)\n",
    "df_total['ID']=df_total['disYear']+df_total['disMonth']+df_total['citySidoName']"
   ]
  },
  {
   "cell_type": "code",
   "execution_count": 14,
   "id": "84fe95ea",
   "metadata": {},
   "outputs": [],
   "source": [
    "df_m=pd.merge(df_total,df_csi_total,how='left',on='ID')"
   ]
  },
  {
   "cell_type": "code",
   "execution_count": 15,
   "id": "b8a55b6f",
   "metadata": {},
   "outputs": [],
   "source": [
    "df_m.drop(['TIME','AREA','ID'],axis=1,inplace=True)"
   ]
  },
  {
   "cell_type": "code",
   "execution_count": 16,
   "id": "ba585133",
   "metadata": {},
   "outputs": [],
   "source": [
    "def Base36(code):\n",
    "    \n",
    "    Base36_code='0123456789ABCDEFGHIJKLMNOPQRSTUVWXYZ'\n",
    "    \n",
    "    length=len(code)\n",
    "    \n",
    "    Base10=0\n",
    "    \n",
    "    for i in range(length): \n",
    "        num = 0\n",
    "        for b in Base36_code:\n",
    "            if b==code[i].upper():\n",
    "                Base10 += (num*(36**(length-i-1)))\n",
    "            num +=1\n",
    "    return Base10"
   ]
  },
  {
   "cell_type": "code",
   "execution_count": 17,
   "id": "8b7fee1d",
   "metadata": {},
   "outputs": [],
   "source": [
    "list_cityCode=[]\n",
    "for i in df_m['cityCode']:\n",
    "    list_cityCode.append(Base36(i)-41472)"
   ]
  },
  {
   "cell_type": "code",
   "execution_count": 18,
   "id": "573c7d05",
   "metadata": {},
   "outputs": [],
   "source": [
    "df_m['cityCode']=list_cityCode"
   ]
  },
  {
   "cell_type": "code",
   "execution_count": 61,
   "id": "aba85637",
   "metadata": {},
   "outputs": [],
   "source": [
    "df_seoul=df_m[df_m['citySidoName']=='서울특별시']\n",
    "df_gyeonggi_incheon=df_m[(df_m['citySidoName']=='경기도') | (df_m['citySidoName']=='인천광역시')]\n",
    "df_gyeongsangnamdo_busan_ulsan=df_m[(df_m['citySidoName']=='경상남도') | (df_m['citySidoName']=='부산광역시') | (df_m['citySidoName']=='울산광역시')]\n",
    "df_gyeongsangbukdo_daegu=df_m[(df_m['citySidoName']=='경상북도') | (df_m['citySidoName']=='대구광역시')]\n",
    "df_gangwondo=df_m[df_m['citySidoName']=='강원도']\n",
    "df_chungcheongdo_daejeon=df_m[(df_m['citySidoName']=='충청북도') | (df_m['citySidoName']=='충청남도') | (df_m['citySidoName']=='대전광역시')]\n",
    "df_jeollado_gwangju=df_m[(df_m['citySidoName']=='전라북도') | (df_m['citySidoName']=='전라남도') | (df_m['citySidoName']=='광주광역시')]\n",
    "df_jeju=df_m[df_m['citySidoName']=='제주특별자치도']"
   ]
  },
  {
   "cell_type": "code",
   "execution_count": 71,
   "id": "f7fcefac",
   "metadata": {
    "collapsed": true
   },
   "outputs": [
    {
     "name": "stderr",
     "output_type": "stream",
     "text": [
      "C:\\Users\\YONSAI\\AppData\\Local\\Temp\\ipykernel_1956\\1960512720.py:1: SettingWithCopyWarning: \n",
      "A value is trying to be set on a copy of a slice from a DataFrame.\n",
      "Try using .loc[row_indexer,col_indexer] = value instead\n",
      "\n",
      "See the caveats in the documentation: https://pandas.pydata.org/pandas-docs/stable/user_guide/indexing.html#returning-a-view-versus-a-copy\n",
      "  df_seoul['disQuantity']=df_seoul['disQuantity'].astype(int)\n",
      "C:\\Users\\YONSAI\\AppData\\Local\\Temp\\ipykernel_1956\\1960512720.py:2: SettingWithCopyWarning: \n",
      "A value is trying to be set on a copy of a slice from a DataFrame.\n",
      "Try using .loc[row_indexer,col_indexer] = value instead\n",
      "\n",
      "See the caveats in the documentation: https://pandas.pydata.org/pandas-docs/stable/user_guide/indexing.html#returning-a-view-versus-a-copy\n",
      "  df_gyeonggi_incheon['disQuantity']=df_gyeonggi_incheon['disQuantity'].astype(int)\n",
      "C:\\Users\\YONSAI\\AppData\\Local\\Temp\\ipykernel_1956\\1960512720.py:3: SettingWithCopyWarning: \n",
      "A value is trying to be set on a copy of a slice from a DataFrame.\n",
      "Try using .loc[row_indexer,col_indexer] = value instead\n",
      "\n",
      "See the caveats in the documentation: https://pandas.pydata.org/pandas-docs/stable/user_guide/indexing.html#returning-a-view-versus-a-copy\n",
      "  df_gyeongsangnamdo_busan_ulsan['disQuantity']=df_gyeongsangnamdo_busan_ulsan['disQuantity'].astype(int)\n",
      "C:\\Users\\YONSAI\\AppData\\Local\\Temp\\ipykernel_1956\\1960512720.py:4: SettingWithCopyWarning: \n",
      "A value is trying to be set on a copy of a slice from a DataFrame.\n",
      "Try using .loc[row_indexer,col_indexer] = value instead\n",
      "\n",
      "See the caveats in the documentation: https://pandas.pydata.org/pandas-docs/stable/user_guide/indexing.html#returning-a-view-versus-a-copy\n",
      "  df_gyeongsangbukdo_daegu['disQuantity']=df_gyeongsangbukdo_daegu['disQuantity'].astype(int)\n",
      "C:\\Users\\YONSAI\\AppData\\Local\\Temp\\ipykernel_1956\\1960512720.py:5: SettingWithCopyWarning: \n",
      "A value is trying to be set on a copy of a slice from a DataFrame.\n",
      "Try using .loc[row_indexer,col_indexer] = value instead\n",
      "\n",
      "See the caveats in the documentation: https://pandas.pydata.org/pandas-docs/stable/user_guide/indexing.html#returning-a-view-versus-a-copy\n",
      "  df_gangwondo['disQuantity']=df_gangwondo['disQuantity'].astype(int)\n",
      "C:\\Users\\YONSAI\\AppData\\Local\\Temp\\ipykernel_1956\\1960512720.py:6: SettingWithCopyWarning: \n",
      "A value is trying to be set on a copy of a slice from a DataFrame.\n",
      "Try using .loc[row_indexer,col_indexer] = value instead\n",
      "\n",
      "See the caveats in the documentation: https://pandas.pydata.org/pandas-docs/stable/user_guide/indexing.html#returning-a-view-versus-a-copy\n",
      "  df_chungcheongdo_daejeon['disQuantity']=df_chungcheongdo_daejeon['disQuantity'].astype(int)\n",
      "C:\\Users\\YONSAI\\AppData\\Local\\Temp\\ipykernel_1956\\1960512720.py:7: SettingWithCopyWarning: \n",
      "A value is trying to be set on a copy of a slice from a DataFrame.\n",
      "Try using .loc[row_indexer,col_indexer] = value instead\n",
      "\n",
      "See the caveats in the documentation: https://pandas.pydata.org/pandas-docs/stable/user_guide/indexing.html#returning-a-view-versus-a-copy\n",
      "  df_jeollado_gwangju['disQuantity']=df_jeollado_gwangju['disQuantity'].astype(int)\n",
      "C:\\Users\\YONSAI\\AppData\\Local\\Temp\\ipykernel_1956\\1960512720.py:8: SettingWithCopyWarning: \n",
      "A value is trying to be set on a copy of a slice from a DataFrame.\n",
      "Try using .loc[row_indexer,col_indexer] = value instead\n",
      "\n",
      "See the caveats in the documentation: https://pandas.pydata.org/pandas-docs/stable/user_guide/indexing.html#returning-a-view-versus-a-copy\n",
      "  df_jeju['disQuantity']=df_jeju['disQuantity'].astype(int)\n"
     ]
    }
   ],
   "source": [
    "df_seoul['disQuantity']=df_seoul['disQuantity'].astype(int)\n",
    "df_gyeonggi_incheon['disQuantity']=df_gyeonggi_incheon['disQuantity'].astype(int)\n",
    "df_gyeongsangnamdo_busan_ulsan['disQuantity']=df_gyeongsangnamdo_busan_ulsan['disQuantity'].astype(int)\n",
    "df_gyeongsangbukdo_daegu['disQuantity']=df_gyeongsangbukdo_daegu['disQuantity'].astype(int)\n",
    "df_gangwondo['disQuantity']=df_gangwondo['disQuantity'].astype(int)\n",
    "df_chungcheongdo_daejeon['disQuantity']=df_chungcheongdo_daejeon['disQuantity'].astype(int)\n",
    "df_jeollado_gwangju['disQuantity']=df_jeollado_gwangju['disQuantity'].astype(int)\n",
    "df_jeju['disQuantity']=df_jeju['disQuantity'].astype(int)"
   ]
  },
  {
   "cell_type": "code",
   "execution_count": 89,
   "id": "9a29e7f1",
   "metadata": {},
   "outputs": [
    {
     "data": {
      "text/html": [
       "<div>\n",
       "<style scoped>\n",
       "    .dataframe tbody tr th:only-of-type {\n",
       "        vertical-align: middle;\n",
       "    }\n",
       "\n",
       "    .dataframe tbody tr th {\n",
       "        vertical-align: top;\n",
       "    }\n",
       "\n",
       "    .dataframe thead th {\n",
       "        text-align: right;\n",
       "    }\n",
       "</style>\n",
       "<table border=\"1\" class=\"dataframe\">\n",
       "  <thead>\n",
       "    <tr style=\"text-align: right;\">\n",
       "      <th></th>\n",
       "      <th>disYear</th>\n",
       "      <th>disMonth</th>\n",
       "      <th>disDate</th>\n",
       "      <th>disDay</th>\n",
       "      <th>cityCode</th>\n",
       "      <th>citySidoName</th>\n",
       "      <th>citySggName</th>\n",
       "      <th>disQuantity</th>\n",
       "      <th>disQuantityRate</th>\n",
       "      <th>disCount</th>\n",
       "      <th>disCountRate</th>\n",
       "      <th>가계수입전망CSI</th>\n",
       "      <th>소비지출전망CSI</th>\n",
       "    </tr>\n",
       "  </thead>\n",
       "  <tbody>\n",
       "    <tr>\n",
       "      <th>9755</th>\n",
       "      <td>2018</td>\n",
       "      <td>08</td>\n",
       "      <td>29</td>\n",
       "      <td>4</td>\n",
       "      <td>23</td>\n",
       "      <td>서울특별시</td>\n",
       "      <td>강남구</td>\n",
       "      <td>400</td>\n",
       "      <td>25.0</td>\n",
       "      <td>1</td>\n",
       "      <td>25.0</td>\n",
       "      <td>98</td>\n",
       "      <td>104</td>\n",
       "    </tr>\n",
       "  </tbody>\n",
       "</table>\n",
       "</div>"
      ],
      "text/plain": [
       "     disYear disMonth disDate disDay  cityCode citySidoName citySggName  \\\n",
       "9755    2018       08      29      4        23        서울특별시         강남구   \n",
       "\n",
       "      disQuantity disQuantityRate disCount disCountRate 가계수입전망CSI 소비지출전망CSI  \n",
       "9755          400            25.0        1         25.0        98       104  "
      ]
     },
     "execution_count": 89,
     "metadata": {},
     "output_type": "execute_result"
    }
   ],
   "source": [
    "df_seoul[df_seoul['disQuantity']==400]"
   ]
  },
  {
   "cell_type": "code",
   "execution_count": 87,
   "id": "c3c60514",
   "metadata": {
    "scrolled": false
   },
   "outputs": [
    {
     "data": {
      "text/html": [
       "<div>\n",
       "<style scoped>\n",
       "    .dataframe tbody tr th:only-of-type {\n",
       "        vertical-align: middle;\n",
       "    }\n",
       "\n",
       "    .dataframe tbody tr th {\n",
       "        vertical-align: top;\n",
       "    }\n",
       "\n",
       "    .dataframe thead th {\n",
       "        text-align: right;\n",
       "    }\n",
       "</style>\n",
       "<table border=\"1\" class=\"dataframe\">\n",
       "  <thead>\n",
       "    <tr style=\"text-align: right;\">\n",
       "      <th></th>\n",
       "      <th>cityCode</th>\n",
       "      <th>disQuantity</th>\n",
       "    </tr>\n",
       "  </thead>\n",
       "  <tbody>\n",
       "    <tr>\n",
       "      <th>count</th>\n",
       "      <td>493.0</td>\n",
       "      <td>4.930000e+02</td>\n",
       "    </tr>\n",
       "    <tr>\n",
       "      <th>mean</th>\n",
       "      <td>23.0</td>\n",
       "      <td>9.219201e+06</td>\n",
       "    </tr>\n",
       "    <tr>\n",
       "      <th>std</th>\n",
       "      <td>0.0</td>\n",
       "      <td>7.872304e+06</td>\n",
       "    </tr>\n",
       "    <tr>\n",
       "      <th>min</th>\n",
       "      <td>23.0</td>\n",
       "      <td>4.000000e+02</td>\n",
       "    </tr>\n",
       "    <tr>\n",
       "      <th>25%</th>\n",
       "      <td>23.0</td>\n",
       "      <td>1.301450e+06</td>\n",
       "    </tr>\n",
       "    <tr>\n",
       "      <th>50%</th>\n",
       "      <td>23.0</td>\n",
       "      <td>8.370460e+06</td>\n",
       "    </tr>\n",
       "    <tr>\n",
       "      <th>75%</th>\n",
       "      <td>23.0</td>\n",
       "      <td>1.697815e+07</td>\n",
       "    </tr>\n",
       "    <tr>\n",
       "      <th>max</th>\n",
       "      <td>23.0</td>\n",
       "      <td>2.593670e+07</td>\n",
       "    </tr>\n",
       "  </tbody>\n",
       "</table>\n",
       "</div>"
      ],
      "text/plain": [
       "       cityCode   disQuantity\n",
       "count     493.0  4.930000e+02\n",
       "mean       23.0  9.219201e+06\n",
       "std         0.0  7.872304e+06\n",
       "min        23.0  4.000000e+02\n",
       "25%        23.0  1.301450e+06\n",
       "50%        23.0  8.370460e+06\n",
       "75%        23.0  1.697815e+07\n",
       "max        23.0  2.593670e+07"
      ]
     },
     "execution_count": 87,
     "metadata": {},
     "output_type": "execute_result"
    }
   ],
   "source": [
    "df_seoul[df_seoul['cityCode']==23].describe()"
   ]
  },
  {
   "cell_type": "code",
   "execution_count": 78,
   "id": "d2f6eb42",
   "metadata": {
    "scrolled": true
   },
   "outputs": [
    {
     "data": {
      "text/plain": [
       "array([  1,   2,   3,   4,   5,   6,   7,   8,  10,  11,  12,  13,  14,\n",
       "        15,  16,  17,  18,  19,  20,  22,  25, 251,  21,   9,  23],\n",
       "      dtype=int64)"
      ]
     },
     "execution_count": 78,
     "metadata": {},
     "output_type": "execute_result"
    }
   ],
   "source": [
    "df_seoul['cityCode'].unique()"
   ]
  },
  {
   "cell_type": "code",
   "execution_count": null,
   "id": "3ebe2366",
   "metadata": {},
   "outputs": [],
   "source": []
  }
 ],
 "metadata": {
  "kernelspec": {
   "display_name": "Python 3 (ipykernel)",
   "language": "python",
   "name": "python3"
  },
  "language_info": {
   "codemirror_mode": {
    "name": "ipython",
    "version": 3
   },
   "file_extension": ".py",
   "mimetype": "text/x-python",
   "name": "python",
   "nbconvert_exporter": "python",
   "pygments_lexer": "ipython3",
   "version": "3.9.13"
  }
 },
 "nbformat": 4,
 "nbformat_minor": 5
}
