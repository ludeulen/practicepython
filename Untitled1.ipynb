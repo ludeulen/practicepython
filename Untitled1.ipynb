{
 "cells": [
  {
   "cell_type": "code",
   "execution_count": null,
   "id": "88b63ca0",
   "metadata": {},
   "outputs": [],
   "source": [
    "import requests\n",
    "\n",
    "url = 'http://apis.data.go.kr/B552584/RfidFoodWasteServiceNew/getCityDayList'\n",
    "params ={'serviceKey' : 'PnDDFfwlwy/ruQHr8wpEN6CJoMvzkuUqorpGhCcvA6a2yajRCSoET2yx4a77oMwDWZ4RtUi1dY55HmVMDle4ig==', 'type' : 'json', 'disYear' : '2022', 'disMonth' : '12', 'cityCode' : 'W34', 'page' : '1', 'rowNum' : '10' }\n",
    "\n",
    "response = requests.get(url, params=params)\n",
    "print(response.text)"
   ]
  },
  {
   "cell_type": "code",
   "execution_count": null,
   "id": "f8d7cea8",
   "metadata": {},
   "outputs": [],
   "source": []
  }
 ],
 "metadata": {
  "kernelspec": {
   "display_name": "Python 3 (ipykernel)",
   "language": "python",
   "name": "python3"
  },
  "language_info": {
   "codemirror_mode": {
    "name": "ipython",
    "version": 3
   },
   "file_extension": ".py",
   "mimetype": "text/x-python",
   "name": "python",
   "nbconvert_exporter": "python",
   "pygments_lexer": "ipython3",
   "version": "3.9.13"
  }
 },
 "nbformat": 4,
 "nbformat_minor": 5
}
